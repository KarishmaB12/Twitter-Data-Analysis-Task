{
 "cells": [
  {
   "cell_type": "markdown",
   "metadata": {},
   "source": [
    "<h1><center>Temporal Analysis</center></h1>"
   ]
  },
  {
   "cell_type": "markdown",
   "metadata": {},
   "source": [
    "## (A) Tweets"
   ]
  },
  {
   "cell_type": "code",
   "execution_count": null,
   "metadata": {
    "collapsed": true
   },
   "outputs": [],
   "source": [
    "#Connecting to the MongoDB database 'EngTweetsDb' where the tweets are stored\n",
    "import pymongo\n",
    "MONGO_HOST = 'mongodb://localhost/EngTweetsDb'\n",
    "conn = pymongo.MongoClient(MONGO_HOST)[\"EngTweetsDb\"][\"en_tweets_col\"]\n",
    "conn.count()"
   ]
  },
  {
   "cell_type": "code",
   "execution_count": null,
   "metadata": {},
   "outputs": [],
   "source": [
    "#I want to show the location of the tweet along with its date\n",
    "\n",
    "#Creating a list of all the locations \n",
    "location_id =(list(conn.find({},{\"user.location\":1})))\n",
    "print(len(location_id))\n",
    "location_only = []\n",
    "for i in range(len(location_id)):\n",
    "    location_str = location_id[i][\"user\"][\"location\"]\n",
    "    location_only.append(location_str)\n",
    "    \n",
    "print(location_only)"
   ]
  },
  {
   "cell_type": "code",
   "execution_count": null,
   "metadata": {},
   "outputs": [],
   "source": [
    "##Extracting the 'timestamp_ms' information from the stored tweets\n",
    "tweet_timestamp= (list(conn.find({},{\"timestamp_ms\":1})))\n",
    "tweet_timestamp\n",
    "#Timestamp is now being converted from milliseconds (ms) to seconds (s)\n",
    "timestamp_s_only = []\n",
    "for i in range(len(tweet_timestamp)):\n",
    "    time_s = tweet_timestamp[i][\"timestamp_ms\"]\n",
    "    timestamp_s_only.append(int(time_s)/1000)\n",
    "    \n",
    "print(timestamp_s_only)"
   ]
  },
  {
   "cell_type": "code",
   "execution_count": null,
   "metadata": {
    "collapsed": true
   },
   "outputs": [],
   "source": [
    "#Converting timestamp in seconds to actual date-time format\n",
    "from datetime import datetime\n",
    "Date_Time_List = []\n",
    "for i in range(len(timestamp_s_only)):\n",
    "    temp = datetime.fromtimestamp(timestamp_s_only[i])\n",
    "    Date_Time_List.append(temp)"
   ]
  },
  {
   "cell_type": "code",
   "execution_count": null,
   "metadata": {},
   "outputs": [],
   "source": [
    "#Creating a DataFrame of Date and Location\n",
    "import pandas as pd\n",
    "DF = pd.DataFrame({'Date' : Date_Time_List,\n",
    "                    'Location': location_only})\n",
    "DF"
   ]
  },
  {
   "cell_type": "code",
   "execution_count": null,
   "metadata": {},
   "outputs": [],
   "source": [
    "#Converting Date_Time_List to a dictionary format to access the date as key and location as value\n",
    "dd = {st:Date_Time_List.count(st) for st in Date_Time_List}\n",
    "type(dd)"
   ]
  },
  {
   "cell_type": "code",
   "execution_count": null,
   "metadata": {
    "collapsed": true
   },
   "outputs": [],
   "source": [
    "#Accesing date as dictionary keys and location as dictionary values\n",
    "a1, b1 = list(dd.keys()), list(dd.values())"
   ]
  },
  {
   "cell_type": "code",
   "execution_count": null,
   "metadata": {
    "scrolled": false
   },
   "outputs": [],
   "source": [
    "#Using 'plotly' package to plot the date, time and location values for tweets\n",
    "import plotly.plotly as py\n",
    "import plotly.graph_objs as go\n",
    "import numpy as np\n",
    "\n",
    "l = []\n",
    "for i in range(len(list(DF['Location']))):\n",
    "    data = [go.Scatter(x=a1, y=b1, marker = dict(size='16',\n",
    "        color = np.random.randn(10000), #set color equal to a variable\n",
    "        colorscale='Viridis',\n",
    "        showscale=True), mode = 'markers', text=DF['Location'])]\n",
    "    l.append(data);\n",
    "    \n",
    "layout = dict(\n",
    "    title='Temporal Analysis of Tweets',\n",
    "    hovermode= 'closest',\n",
    "    xaxis=dict(\n",
    "        title='Time',\n",
    "        rangeselector=dict(\n",
    "            buttons=list([\n",
    "                dict(count=1,\n",
    "                     label='1d',\n",
    "                     step='day',\n",
    "                     stepmode='backward'),\n",
    "                dict(count=2,\n",
    "                     label='2d',\n",
    "                     step='day',\n",
    "                     stepmode='backward'),\n",
    "                dict(count=3,\n",
    "                     label='3d',\n",
    "                     step='day',\n",
    "                     stepmode='backward'),\n",
    "                dict(count=1,\n",
    "                     label='1m',\n",
    "                     step='month',\n",
    "                     stepmode='backward'),\n",
    "                dict(step='all')\n",
    "            ])\n",
    "        ),\n",
    "        rangeslider=dict(),\n",
    "        type='date'\n",
    "    ),\n",
    "    yaxis=dict(title='Frequency of Tweets')\n",
    ")\n",
    "fig = dict(data=data,layout = layout)\n",
    "py.iplot(fig)"
   ]
  },
  {
   "cell_type": "markdown",
   "metadata": {},
   "source": [
    "# (B) News Article"
   ]
  },
  {
   "cell_type": "code",
   "execution_count": null,
   "metadata": {
    "collapsed": true
   },
   "outputs": [],
   "source": [
    "#Connecting to the MongoDB database 'News' where the news articles are stored\n",
    "MONGO_HOST1 = 'mongodb://localhost/News'\n",
    "conn1 = pymongo.MongoClient(MONGO_HOST1)[\"News\"][\"articles\"]\n",
    "conn1.count()"
   ]
  },
  {
   "cell_type": "code",
   "execution_count": null,
   "metadata": {
    "collapsed": true
   },
   "outputs": [],
   "source": [
    "#Passing the list of five most frequently occurring entities in tweets\n",
    "top_five = ['hindu','justin','bieber','#bbmas','trump']"
   ]
  },
  {
   "cell_type": "code",
   "execution_count": null,
   "metadata": {
    "collapsed": true
   },
   "outputs": [],
   "source": [
    "#Extracting the 'content' information from the stored news articles\n",
    "content_id =(list(conn1.find({})))\n",
    "print(content_id[3])"
   ]
  },
  {
   "cell_type": "code",
   "execution_count": null,
   "metadata": {
    "collapsed": true
   },
   "outputs": [],
   "source": [
    "#Functions to extract content and location data from the collected news articles\n",
    "def timestampprocessor(s):    \n",
    "    start=\"'published_at': datetime.datetime(\"\n",
    "    end=\", tzinfo=\"\n",
    "    timestamp=(s.split(start))[1].split(end)[0]\n",
    "    return eval(timestamp.strip())\n",
    "\n",
    "def locationprocessor(s):\n",
    "    start=\"'locations':\"\n",
    "    end=\"'logo_url':\"\n",
    "    location=(s.split(start))[1].split(end)[0]\n",
    "    return eval(location.strip())"
   ]
  },
  {
   "cell_type": "code",
   "execution_count": null,
   "metadata": {
    "collapsed": true
   },
   "outputs": [],
   "source": [
    "#Creating a date-time list \n",
    "date_list = []\n",
    "for i in range(len(content_id)):\n",
    "    s=content_id[i][list(content_id[i].keys())[1]]\n",
    "    date=timestampprocessor(s)\n",
    "    print(str(date1[0:6]).replace(\")\",\"\").replace(\"(\",\"\"))\n",
    "    d = str(date[0:3]).replace(\")\",\"\").replace(\"(\",\"\")\n",
    "    x= '-'.join(d.split(\", \"))\n",
    "    d= str(date[3:6]).replace(\")\",\"\").replace(\"(\",\"\")\n",
    "    y= ':'.join(d.split(\", \"))\n",
    "    date_list.append(x+\" \"+y)\n",
    "print(date_list)"
   ]
  },
  {
   "cell_type": "code",
   "execution_count": null,
   "metadata": {
    "collapsed": true
   },
   "outputs": [],
   "source": [
    "#For creating a location list, only the country data has been extracted and used\n",
    "country=[]\n",
    "for i in range(len(content_id)):\n",
    "    s=content_id[i][list(content_id[i].keys())[1]]\n",
    "    location=locationprocessor(s)\n",
    "    if len(location[0]) == 0:\n",
    "        country.append(None)\n",
    "        i = i + 1\n",
    "        print('Record skipped.')\n",
    "    else:\n",
    "        country.append(location[0][0]['country'])\n",
    "print(country)"
   ]
  },
  {
   "cell_type": "code",
   "execution_count": null,
   "metadata": {
    "collapsed": true
   },
   "outputs": [],
   "source": [
    "#Storing date_list as date\n",
    "date = date_list"
   ]
  },
  {
   "cell_type": "code",
   "execution_count": null,
   "metadata": {
    "collapsed": true
   },
   "outputs": [],
   "source": [
    "#Creating a DataFrame of Date and Location\n",
    "import pandas as pd\n",
    "DF = pd.DataFrame({'Date' : date,\n",
    "                    'Location': country})"
   ]
  },
  {
   "cell_type": "code",
   "execution_count": null,
   "metadata": {
    "collapsed": true
   },
   "outputs": [],
   "source": [
    "#Deriving the values of Date & Location column of DataFrame\n",
    "a1 = list(DF['Date'])\n",
    "b1 = list(DF['Location'])"
   ]
  },
  {
   "cell_type": "code",
   "execution_count": null,
   "metadata": {
    "collapsed": true
   },
   "outputs": [],
   "source": [
    "#Using 'Plotly' package to plot the date, time and location values for news articles\n",
    "import plotly.plotly as py\n",
    "import plotly.graph_objs as go\n",
    "import numpy as np\n",
    "\n",
    "l = []\n",
    "for i in range(len(list(DF['Location']))):\n",
    "    data = [go.Scatter(x=a1, marker = dict(size='16',\n",
    "        color =\"\" ), mode = 'markers', text=DF['Location'])]\n",
    "    l.append(data);\n",
    "    \n",
    "layout = dict(\n",
    "    title='Temporal Analysis of News Articles',\n",
    "    hovermode= 'closest',\n",
    "    xaxis=dict(\n",
    "        title='Time',\n",
    "        rangeselector=dict(\n",
    "            buttons=list([\n",
    "                dict(count=1,\n",
    "                     label='1d',\n",
    "                     step='day',\n",
    "                     stepmode='backward'),\n",
    "                dict(count=2,\n",
    "                     label='2d',\n",
    "                     step='day',\n",
    "                     stepmode='backward'),\n",
    "                dict(count=3,\n",
    "                     label='3d',\n",
    "                     step='day',\n",
    "                     stepmode='backward'),\n",
    "                dict(count=1,\n",
    "                     label='1m',\n",
    "                     step='month',\n",
    "                     stepmode='backward'),\n",
    "                dict(step='all')\n",
    "            ])\n",
    "        ),\n",
    "        rangeslider=dict(),\n",
    "        type='date'\n",
    "    )\n",
    ")\n",
    "fig = dict(data=data,layout = layout)\n",
    "py.iplot(fig)"
   ]
  },
  {
   "cell_type": "code",
   "execution_count": null,
   "metadata": {
    "collapsed": true
   },
   "outputs": [],
   "source": []
  }
 ],
 "metadata": {
  "kernelspec": {
   "display_name": "Python 3",
   "language": "python",
   "name": "python3"
  },
  "language_info": {
   "codemirror_mode": {
    "name": "ipython",
    "version": 3
   },
   "file_extension": ".py",
   "mimetype": "text/x-python",
   "name": "python",
   "nbconvert_exporter": "python",
   "pygments_lexer": "ipython3",
   "version": "3.6.5"
  }
 },
 "nbformat": 4,
 "nbformat_minor": 2
}
