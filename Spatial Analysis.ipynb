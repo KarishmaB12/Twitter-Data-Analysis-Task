{
 "cells": [
  {
   "cell_type": "markdown",
   "metadata": {},
   "source": [
    "<h1><center>Spatial Analysis</center></h1>"
   ]
  },
  {
   "cell_type": "markdown",
   "metadata": {},
   "source": [
    "# (A) Tweets"
   ]
  },
  {
   "cell_type": "code",
   "execution_count": null,
   "metadata": {
    "collapsed": true
   },
   "outputs": [],
   "source": [
    "#Connecting to the MongoDB database 'EngTweetsDb' where the tweets are stored\n",
    "import pymongo\n",
    "MONGO_HOST = 'mongodb://localhost/EngTweetsDb'\n",
    "conn = pymongo.MongoClient(MONGO_HOST)[\"EngTweetsDb\"][\"en_tweets_col\"]\n",
    "conn.count()"
   ]
  },
  {
   "cell_type": "code",
   "execution_count": null,
   "metadata": {
    "collapsed": true
   },
   "outputs": [],
   "source": [
    "#Extracting the 'location' information from the stored tweets\n",
    "location_id = (list(conn.find({},{\"user.location\":1})))\n",
    "location_id"
   ]
  },
  {
   "cell_type": "code",
   "execution_count": null,
   "metadata": {
    "collapsed": true
   },
   "outputs": [],
   "source": [
    "#Creating a list of all the locations \n",
    "location_id =(list(conn.find({},{\"user.location\":1})))\n",
    "print(len(location_id))\n",
    "location_only = []\n",
    "for i in range(len(location_id)):\n",
    "    location_str = location_id[i][\"user\"][\"location\"]\n",
    "    location_only.append(location_str)\n",
    "    \n",
    "print(location_only)"
   ]
  },
  {
   "cell_type": "code",
   "execution_count": null,
   "metadata": {
    "collapsed": true,
    "scrolled": true
   },
   "outputs": [],
   "source": [
    "#Using 'geopy' package to find out the coordinates of all locations stored in 'location_only' list\n",
    "#These coordinates are then stored in a MongoDB database 'EngTweetsDb' collection 'tweet_coord'\n",
    "from geopy.geocoders import Nominatim\n",
    "geolocator = Nominatim()\n",
    "\n",
    "for place in location_only:\n",
    "    #print(place)\n",
    "    location = geolocator.geocode(place, timeout=50)\n",
    "    try: \n",
    "        print(location.address)\n",
    "        print((location.latitude, location.longitude))\n",
    "        client = pymongo.MongoClient(MONGO_HOST)\n",
    "        db = client.EngTweetsDb\n",
    "        db.tweet_coord.insert({location.address:(location.latitude,location.longitude)})\n",
    "        \n",
    "    except Exception as e:\n",
    "        print(e)"
   ]
  },
  {
   "cell_type": "code",
   "execution_count": null,
   "metadata": {
    "collapsed": true
   },
   "outputs": [],
   "source": [
    "#Creating a DataFrame of location name, its latitude and longitude\n",
    "import pandas as pd\n",
    "\n",
    "latitude_list = []\n",
    "longitude_list = []\n",
    "name_list = []\n",
    "for place in location_only:\n",
    "    print(place)\n",
    "    if place == None: \n",
    "        print('Found None. Skipping..')\n",
    "    else:     \n",
    "        location = geolocator.geocode(place, timeout = 70)\n",
    "        try: \n",
    "            print(location.address)\n",
    "            print((location.latitude, location.longitude))\n",
    "            latitude_list.append(location.latitude)\n",
    "            longitude_list.append(location.longitude)\n",
    "            name_list.append(location.address)\n",
    "            DF = pd.DataFrame({'Name' : name_list,\n",
    "                               'latitude' : latitude_list,\n",
    "                               'longitude' : longitude_list})\n",
    "            \n",
    "        except Exception as e:\n",
    "            print(e)"
   ]
  },
  {
   "cell_type": "code",
   "execution_count": null,
   "metadata": {
    "collapsed": true
   },
   "outputs": [],
   "source": [
    "#Printing the DataFrame\n",
    "DF"
   ]
  },
  {
   "cell_type": "code",
   "execution_count": null,
   "metadata": {
    "collapsed": true
   },
   "outputs": [],
   "source": [
    "#Creating a sub-DataFrame from 'DF'\n",
    "coord = DF[['latitude','longitude']]"
   ]
  },
  {
   "cell_type": "code",
   "execution_count": null,
   "metadata": {
    "collapsed": true
   },
   "outputs": [],
   "source": [
    "#Creating a list of the values of 'coord' DataFrame\n",
    "coordlist = coord.values.tolist()"
   ]
  },
  {
   "cell_type": "code",
   "execution_count": null,
   "metadata": {
    "collapsed": true,
    "scrolled": false
   },
   "outputs": [],
   "source": [
    "#Using 'Folium' package to plot the locations in a world map\n",
    "import folium\n",
    "from folium.plugins import MarkerCluster\n",
    "\n",
    "#tiles = CartoDB positron, nothing, CartoDB dark_matter\n",
    "\n",
    "map = folium.Map(location=[40.416775, -3.703790], tiles = \"CartoDB dark_matter\", zoom_start=2)\n",
    "\n",
    "marker_cluster = MarkerCluster().add_to(map)\n",
    "\n",
    "for point in range(len(coordlist)):\n",
    "    folium.CircleMarker(coordlist[point], popup=folium.Popup(DF['Name'][point],parse_html=True),color='#3186cc',fill_color='#3186cc',fill=True).add_to(marker_cluster)\n",
    "\n",
    "#The map created has been stored in the local directory as html.     \n",
    "map.save('tweetMap.html')\n",
    "\n",
    "#The map can be seen in the Jupyter Notebook by calling the output 'map'\n",
    "map"
   ]
  },
  {
   "cell_type": "markdown",
   "metadata": {
    "collapsed": true
   },
   "source": [
    "# (B) News Articles"
   ]
  },
  {
   "cell_type": "code",
   "execution_count": null,
   "metadata": {
    "collapsed": true
   },
   "outputs": [],
   "source": [
    "#Connecting to the MongoDB database 'News' where the news articles corresponding to five most-occurring entities are stored\n",
    "MONGO_HOST1 = 'mongodb://localhost/News'\n",
    "conn1 = pymongo.MongoClient(MONGO_HOST1)[\"News\"]\n",
    "db2 = conn1.articles"
   ]
  },
  {
   "cell_type": "code",
   "execution_count": null,
   "metadata": {
    "collapsed": true
   },
   "outputs": [],
   "source": [
    "#Passing the list of five most frequently occurring entities in tweets\n",
    "top_five = ['hindu', 'justin', 'bieber', '#bbmas', 'trump']"
   ]
  },
  {
   "cell_type": "code",
   "execution_count": null,
   "metadata": {
    "collapsed": true
   },
   "outputs": [],
   "source": [
    "#Extracting the 'content' information from the stored news articles\n",
    "content_id =(list(db2.find({})))"
   ]
  },
  {
   "cell_type": "code",
   "execution_count": null,
   "metadata": {
    "collapsed": true
   },
   "outputs": [],
   "source": [
    "#Creating a function to extract only the description/body of the news articles\n",
    "def textprocessor(s):\n",
    "    start=\"'body':\"\n",
    "    end=\"'categories':\"\n",
    "    body=(s.split(start))[1].split(end)[0]\n",
    "    return body.strip()"
   ]
  },
  {
   "cell_type": "code",
   "execution_count": null,
   "metadata": {
    "collapsed": true
   },
   "outputs": [],
   "source": [
    "#For creating a location list, only the country data has been extracted and used\n",
    "country=[]\n",
    "for i in range(len(content_id)):\n",
    "    s=content_id[i][list(content_id[i].keys())[1]]\n",
    "    location=locationprocessor(s)\n",
    "    if len(location[0]) == 0:\n",
    "        country.append(None)\n",
    "        i = i + 1\n",
    "        print('Record skipped.')\n",
    "    else:\n",
    "        country.append(location[0][0]['country'])\n",
    "print(country)"
   ]
  },
  {
   "cell_type": "code",
   "execution_count": null,
   "metadata": {
    "collapsed": true
   },
   "outputs": [],
   "source": [
    "#Using 'geopy' package to find out the coordinates of all locations stored in 'country' list\n",
    "#These coordinates are then stored in a MongoDB database 'News' collection 'news_coord'\n",
    "from geopy.geocoders import Nominatim\n",
    "geolocator = Nominatim()\n",
    "\n",
    "for place in country:\n",
    "    location = geolocator.geocode(place, timeout=50)\n",
    "    try: \n",
    "        client = pymongo.MongoClient(MONGO_HOST1)\n",
    "        db3 = client.News\n",
    "        db3.news_coord.insert({location.address:(location.latitude,location.longitude)})\n",
    "        \n",
    "    except Exception as e:\n",
    "        print(e)"
   ]
  },
  {
   "cell_type": "code",
   "execution_count": null,
   "metadata": {
    "collapsed": true
   },
   "outputs": [],
   "source": [
    "#Creating a DataFrame of location name, its latitude and longitude\n",
    "import pandas as pd\n",
    "\n",
    "latitude_list = []\n",
    "longitude_list = []\n",
    "name_list = []\n",
    "for place in country:\n",
    "    print(place)\n",
    "    print('\\n')\n",
    "    if place == None: \n",
    "        print('Found None. Skipping..')\n",
    "    else:     \n",
    "        location = geolocator.geocode(place, timeout = 70)\n",
    "        try: \n",
    "            #print(location.address)\n",
    "            #print((location.latitude, location.longitude))\n",
    "            latitude_list.append(location.latitude)\n",
    "            longitude_list.append(location.longitude)\n",
    "            name_list.append(location.address)\n",
    "            DF = pd.DataFrame({'Name' : name_list,\n",
    "                               'latitude' : latitude_list,\n",
    "                               'longitude' : longitude_list})\n",
    "            #print('Added to DF!')\n",
    "            #print('*************************************************************************************************************')\n",
    "        except Exception as e:\n",
    "            print(e)"
   ]
  },
  {
   "cell_type": "code",
   "execution_count": null,
   "metadata": {
    "collapsed": true
   },
   "outputs": [],
   "source": [
    "#Printing the DataFrame\n",
    "DF"
   ]
  },
  {
   "cell_type": "code",
   "execution_count": null,
   "metadata": {
    "collapsed": true
   },
   "outputs": [],
   "source": [
    "#Creating a sub-DataFrame from 'DF'\n",
    "coord=DF[['latitude','longitude']]\n",
    "#To view the first five rows of the DataFrame\n",
    "coord.head()"
   ]
  },
  {
   "cell_type": "code",
   "execution_count": null,
   "metadata": {
    "collapsed": true
   },
   "outputs": [],
   "source": [
    "#List of all the values of 'coord' DataFrame\n",
    "coordlist1 = coord.values.tolist()"
   ]
  },
  {
   "cell_type": "code",
   "execution_count": null,
   "metadata": {
    "collapsed": true
   },
   "outputs": [],
   "source": [
    "#Using 'Folium' package to plot the the locations in a world map\n",
    "import folium\n",
    "from folium.plugins import MarkerCluster\n",
    "\n",
    "#tiles = CartoDB positron, nothing, CartoDB dark_matter\n",
    "\n",
    "map1 = folium.Map(location=[40.416775, -3.703790], tiles = \"CartoDB dark_matter\", zoom_start=2)\n",
    "\n",
    "marker_cluster1 = MarkerCluster().add_to(map1)\n",
    "\n",
    "for point in range(len(coordlist1)):\n",
    "    folium.CircleMarker(coordlist1[point], popup=folium.Popup(DF['Name'][point],parse_html=True),color='#31CCC5',fill_color='#3186cc',fill=True).add_to(marker_cluster1)\n",
    "\n",
    "#The map created has been stored in the local directory as html.         \n",
    "map1.save('newsMap.html')\n",
    "\n",
    "#The map can be seen in the Jupyter Notebook by calling the output 'map'\n",
    "map1"
   ]
  },
  {
   "cell_type": "code",
   "execution_count": null,
   "metadata": {
    "collapsed": true
   },
   "outputs": [],
   "source": []
  }
 ],
 "metadata": {
  "kernelspec": {
   "display_name": "Python 3",
   "language": "python",
   "name": "python3"
  },
  "language_info": {
   "codemirror_mode": {
    "name": "ipython",
    "version": 3
   },
   "file_extension": ".py",
   "mimetype": "text/x-python",
   "name": "python",
   "nbconvert_exporter": "python",
   "pygments_lexer": "ipython3",
   "version": "3.6.5"
  }
 },
 "nbformat": 4,
 "nbformat_minor": 2
}
